{
 "cells": [
  {
   "cell_type": "code",
   "execution_count": 1,
   "metadata": {},
   "outputs": [],
   "source": [
    "import mysql.connector\n",
    "import requests\n",
    "import collections\n",
    "import datetime\n",
    "import pandas as pd"
   ]
  },
  {
   "cell_type": "code",
   "execution_count": null,
   "metadata": {},
   "outputs": [],
   "source": [
    "conn_relacional = mysql.connector.connect(\n",
    "    host=\"127.0.0.1\",\n",
    "    port=3306,\n",
    "    user=\"root\",\n",
    "    password=\"0101\",\n",
    "    database=\"relacional\",\n",
    ")\n",
    "\n",
    "conn_dimensional = mysql.connector.connect(\n",
    "    host=\"127.0.0.1\",\n",
    "    port=3306,\n",
    "    user=\"root\",\n",
    "    password=\"0101\",\n",
    "    database=\"dimensional\",\n",
    ")\n",
    "\n",
    "cursor_relacional = conn_relacional.cursor()\n",
    "cursor_dimensional = conn_dimensional.cursor()"
   ]
  },
  {
   "cell_type": "code",
   "execution_count": null,
   "metadata": {},
   "outputs": [],
   "source": [
    "def pais_para_continente(pais):\n",
    "    url = f\"https://restcountries.com/v3.1/translation/{pais.lower()}\"\n",
    "    response = requests.get(url)\n",
    "\n",
    "    if response.status_code != 200:\n",
    "        return None\n",
    "    \n",
    "    data = response.json()[0]\n",
    "    continente = data['region']\n",
    "\n",
    "    traducao = {\n",
    "        'Africa': 'África',\n",
    "        'Americas': 'América',\n",
    "        'Europe': 'Europa',\n",
    "        'Asia': 'Ásia',\n",
    "        'Oceania': 'Oceania',\n",
    "        'Antarctic': 'Antártida'\n",
    "    }\n",
    "    return traducao.get(continente, continente)"
   ]
  },
  {
   "cell_type": "markdown",
   "metadata": {},
   "source": [
    "## Data"
   ]
  },
  {
   "cell_type": "code",
   "execution_count": null,
   "metadata": {},
   "outputs": [],
   "source": [
    "# Leitura do xls\n",
    "excel_path = 'Ch3-SampleDateDim.xls'\n",
    "df = pd.read_excel(excel_path)"
   ]
  },
  {
   "cell_type": "code",
   "execution_count": null,
   "metadata": {},
   "outputs": [],
   "source": [
    "for i, row in df.iterrows():\n",
    "    day = row['day num in month']\n",
    "    month = row['month']\n",
    "    year = row['year']\n",
    "    quarter = row['quarter']\n",
    "    semester = quarter // 3 + 1\n",
    "    \n",
    "    cursor_dimensional.execute(\n",
    "        \"INSERT INTO d_data (idData, dia, mes, ano, trimestre, semestre) VALUES (%s, %s, %s, %s, %s, %s)\",\n",
    "        (i, day, month, year, quarter, semester)\n",
    "    )"
   ]
  },
  {
   "cell_type": "markdown",
   "metadata": {},
   "source": [
    "## Localidade"
   ]
  },
  {
   "cell_type": "code",
   "execution_count": null,
   "metadata": {},
   "outputs": [],
   "source": [
    "cursor_relacional.execute(\n",
    "    \"SELECT idPais, nmPais FROM pais\"\n",
    ")\n",
    "paises = cursor_relacional.fetchall()\n",
    "\n",
    "cursor_dimensional.executemany(\n",
    "    \"INSERT INTO d_localidade (idLocalidade, pais, continente) VALUES (%s, %s, %s)\",\n",
    "    [(pais[0], pais[1], pais_para_continente(pais[1])) for pais in paises],\n",
    ")"
   ]
  },
  {
   "cell_type": "markdown",
   "metadata": {},
   "source": [
    "## Plano"
   ]
  },
  {
   "cell_type": "code",
   "execution_count": null,
   "metadata": {},
   "outputs": [],
   "source": [
    "cursor_relacional.execute(\n",
    "    \"SELECT idPlano, nmPlano FROM plano\",\n",
    ")\n",
    "planos = cursor_relacional.fetchall()\n",
    "\n",
    "cursor_dimensional.executemany(\n",
    "    \"INSERT INTO d_plano (idPlano, nmPlano) VALUES (%s, %s)\",\n",
    "    planos\n",
    ")"
   ]
  },
  {
   "cell_type": "markdown",
   "metadata": {},
   "source": [
    "## Assinatura"
   ]
  },
  {
   "cell_type": "code",
   "execution_count": null,
   "metadata": {},
   "outputs": [],
   "source": [
    "data_lookup = {}\n",
    "cursor_dimensional.execute(\"SELECT idData, ano, mes FROM d_data WHERE dia = 1\")\n",
    "for id_data, ano, mes in cursor_dimensional.fetchall():\n",
    "    data_lookup[(ano, mes)] = id_data\n",
    "\n",
    "localidade_lookup = {}\n",
    "cursor_dimensional.execute(\"SELECT idLocalidade, pais, continente FROM d_localidade\")\n",
    "for id_localidade, pais, continente in cursor_dimensional.fetchall():\n",
    "    localidade_lookup[(pais, continente)] = id_localidade\n",
    "\n",
    "cursor_relacional.execute(\n",
    "    \"\"\"\n",
    "    SELECT\n",
    "        u.dtNascimento,\n",
    "        p.nmPais,\n",
    "        a.dtInicio\n",
    "    FROM assinatura a\n",
    "    JOIN usuario u ON u.idUsuario = a.Usuario_idUsuario\n",
    "    JOIN pais p ON p.idPais = u.pais_idPais\n",
    "    \"\"\"\n",
    ")\n",
    "assinaturas = cursor_relacional.fetchall()\n",
    "\n",
    "assinaturas_agregadas = collections.defaultdict(int)\n",
    "data_atual = datetime.datetime(2018, 12, 31) # Considerando o final da planilha\n",
    "\n",
    "for dt_nascimento, pais, dt_inicio in assinaturas:\n",
    "    idade_usuario = data_atual.year - dt_nascimento.year - \\\n",
    "        ((data_atual.month, data_atual.day) < (dt_nascimento.month, dt_nascimento.day))\n",
    "    faixa_etaria_usuario = idade_usuario // 10\n",
    "\n",
    "    continente = pais_para_continente(pais)\n",
    "    id_localidade = localidade_lookup.get((pais, continente))\n",
    "\n",
    "    id_data = data_lookup.get((dt_inicio.year, dt_inicio.month))\n",
    "\n",
    "    assinaturas_agregadas[(id_data, id_localidade, faixa_etaria_usuario)] += 1\n",
    "\n",
    "cursor_dimensional.executemany(\n",
    "    'INSERT INTO f_assinatura (idAssinatura, numAssinantes, faixa_etaria, d_Localidade_idLocalidade, d_Data_idData) VALUES (%s, %s, %s, %s, %s)',\n",
    "    [\n",
    "        (i, num_assinaturas, faixa_etaria, id_localidade, id_data)\n",
    "        for i, ((id_data, id_localidade, faixa_etaria), num_assinaturas) in enumerate(assinaturas_agregadas.items(), start=1)\n",
    "    ]\n",
    ")"
   ]
  },
  {
   "cell_type": "markdown",
   "metadata": {},
   "source": [
    "## Receita"
   ]
  },
  {
   "cell_type": "code",
   "execution_count": null,
   "metadata": {},
   "outputs": [],
   "source": [
    "data_lookup = {}\n",
    "cursor_dimensional.execute(\"SELECT idData, ano, mes, trimestre FROM d_data WHERE dia = 1\")\n",
    "for id_data, ano, mes, trimestre in cursor_dimensional.fetchall():\n",
    "    data_lookup[(ano, mes)] = id_data\n",
    "\n",
    "cursor_relacional.execute(\"\"\"\n",
    "    SELECT \n",
    "        p.dtPagamento,\n",
    "        p.vlrRecebido,\n",
    "        a.Plano_idPlano\n",
    "    FROM pagamento p\n",
    "    JOIN assinatura a ON a.idAssinatura = p.Assinatura_idAssinatura    \n",
    "\"\"\")\n",
    "pagamentos = cursor_relacional.fetchall()\n",
    "receita_agregada = collections.defaultdict(float)\n",
    "\n",
    "for dt_pagamento, vlr_recebido, id_plano in pagamentos:\n",
    "    dt_pagamento = datetime.datetime.strptime(dt_pagamento, \"%Y-%m-%d\")\n",
    "\n",
    "    ano_pagamento = dt_pagamento.year\n",
    "    mes_pagamento = dt_pagamento.month\n",
    "    id_data = data_lookup.get((ano_pagamento, mes_pagamento))\n",
    "    \n",
    "    receita_agregada[(id_data, id_plano)] += float(vlr_recebido)\n",
    "\n",
    "cursor_dimensional.executemany(\n",
    "    'INSERT INTO f_receita (idReceita, valorReceita, d_Plano_idPlano, d_Data_idData) VALUES (%s, %s, %s, %s)',\n",
    "    [\n",
    "        (i, valor_receita, id_plano, id_data)\n",
    "        for i, ((id_data, id_plano), valor_receita) in enumerate(receita_agregada.items(), start=1)\n",
    "    ]\n",
    ")"
   ]
  },
  {
   "cell_type": "code",
   "execution_count": null,
   "metadata": {},
   "outputs": [],
   "source": [
    "conn_dimensional.commit()"
   ]
  }
 ],
 "metadata": {
  "kernelspec": {
   "display_name": ".venv",
   "language": "python",
   "name": "python3"
  },
  "language_info": {
   "codemirror_mode": {
    "name": "ipython",
    "version": 3
   },
   "file_extension": ".py",
   "mimetype": "text/x-python",
   "name": "python",
   "nbconvert_exporter": "python",
   "pygments_lexer": "ipython3",
   "version": "3.10.11"
  }
 },
 "nbformat": 4,
 "nbformat_minor": 2
}
