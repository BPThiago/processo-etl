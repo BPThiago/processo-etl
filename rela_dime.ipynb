{
 "cells": [
  {
   "cell_type": "code",
   "execution_count": 1,
   "metadata": {},
   "outputs": [],
   "source": [
    "import mysql.connector\n",
    "import requests"
   ]
  },
  {
   "cell_type": "code",
   "execution_count": 2,
   "metadata": {},
   "outputs": [],
   "source": [
    "conn_relacional = mysql.connector.connect(\n",
    "    host=\"127.0.0.1\",\n",
    "    port=3306,\n",
    "    user=\"root\",\n",
    "    password=\"0101\",\n",
    "    database=\"relacional\",\n",
    ")\n",
    "\n",
    "conn_dimensional = mysql.connector.connect(\n",
    "    host=\"127.0.0.1\",\n",
    "    port=3306,\n",
    "    user=\"root\",\n",
    "    password=\"0101\",\n",
    "    database=\"dimensional\",\n",
    ")\n",
    "\n",
    "cursor_relacional = conn_relacional.cursor()\n",
    "cursor_dimensional = conn_dimensional.cursor()"
   ]
  },
  {
   "cell_type": "code",
   "execution_count": 3,
   "metadata": {},
   "outputs": [],
   "source": [
    "def pais_para_continente(pais):\n",
    "    url = f\"https://restcountries.com/v3.1/translation/{pais.lower()}\"\n",
    "    response = requests.get(url)\n",
    "\n",
    "    if response.status_code != 200:\n",
    "        return None\n",
    "    \n",
    "    data = response.json()[0]\n",
    "    continente = data['region']\n",
    "\n",
    "    traducao = {\n",
    "        'Africa': 'África',\n",
    "        'Americas': 'América',\n",
    "        'Europe': 'Europa',\n",
    "        'Asia': 'Ásia',\n",
    "        'Oceania': 'Oceania',\n",
    "        'Antarctic': 'Antártida'\n",
    "    }\n",
    "    return traducao.get(continente, continente)"
   ]
  },
  {
   "cell_type": "markdown",
   "metadata": {},
   "source": [
    "## Localidade"
   ]
  },
  {
   "cell_type": "code",
   "execution_count": null,
   "metadata": {},
   "outputs": [
    {
     "ename": "NameError",
     "evalue": "name 'cursor_relacional' is not defined",
     "output_type": "error",
     "traceback": [
      "\u001b[1;31m---------------------------------------------------------------------------\u001b[0m",
      "\u001b[1;31mNameError\u001b[0m                                 Traceback (most recent call last)",
      "Cell \u001b[1;32mIn[1], line 1\u001b[0m\n\u001b[1;32m----> 1\u001b[0m \u001b[43mcursor_relacional\u001b[49m\u001b[38;5;241m.\u001b[39mexecute(\n\u001b[0;32m      2\u001b[0m     \u001b[38;5;124m\"\u001b[39m\u001b[38;5;124mSELECT idPais, nmPais FROM pais\u001b[39m\u001b[38;5;124m\"\u001b[39m\n\u001b[0;32m      3\u001b[0m )\n\u001b[0;32m      4\u001b[0m paises \u001b[38;5;241m=\u001b[39m cursor_relacional\u001b[38;5;241m.\u001b[39mfetchall()\n\u001b[0;32m      6\u001b[0m cursor_relacional\u001b[38;5;241m.\u001b[39mexecute(\n\u001b[0;32m      7\u001b[0m     \u001b[38;5;124m\"\u001b[39m\u001b[38;5;124mSELECT idEstado, nmEstado FROM estado\u001b[39m\u001b[38;5;124m\"\u001b[39m\n\u001b[0;32m      8\u001b[0m )\n",
      "\u001b[1;31mNameError\u001b[0m: name 'cursor_relacional' is not defined"
     ]
    }
   ],
   "source": [
    "cursor_relacional.execute(\n",
    "    \"SELECT idPais, nmPais FROM pais\"\n",
    ")\n",
    "paises = cursor_relacional.fetchall()\n",
    "\n",
    "cursor_relacional.execute(\n",
    "    \"SELECT idEstado, nmEstado FROM estado\"\n",
    ")\n",
    "estados = cursor_relacional.fetchall()\n",
    "\n",
    "cursor_relacional.execute(\n",
    "    \"SELECT idCidade, nmCidade FROM cidade\"\n",
    ")\n",
    "cidades = cursor_relacional.fetchall()\n",
    "\n",
    "continentes = []\n",
    "for id_pais, nome_pais in paises:\n",
    "    continentes.append(pais_para_continente(nome_pais))\n",
    "    \n",
    "# Inserts\n",
    "cursor_dimensional.executemany(\n",
    "    \"INSERT INTO d_localidade (idLocalidade, pais, estado, cidade, continente) VALUES (%s, %s, %s, %s, %s)\",\n",
    "    [(i+1, paises[0][1], estados[i][1], cidades[i][1], continentes[0]) for i in range(len(estados))],\n",
    ")"
   ]
  },
  {
   "cell_type": "markdown",
   "metadata": {},
   "source": [
    "## Usuário"
   ]
  },
  {
   "cell_type": "code",
   "execution_count": 24,
   "metadata": {},
   "outputs": [],
   "source": [
    "from datetime import datetime\n",
    "\n",
    "def get_years(date, actual_date):\n",
    "    return actual_date.year - date.year + 1"
   ]
  },
  {
   "cell_type": "code",
   "execution_count": 25,
   "metadata": {},
   "outputs": [],
   "source": [
    "from datetime import datetime\n",
    "\n",
    "cursor_relacional.execute(\n",
    "    \"SELECT idUsuario, nome, dtNascimento FROM usuario\",\n",
    ")\n",
    "usuarios = cursor_relacional.fetchall()\n",
    "\n",
    "actual_date = datetime.now().date()\n",
    "dados = []\n",
    "for id_usuario, nome, dt_nascimento in usuarios:\n",
    "    faixa_etaria = get_years(dt_nascimento, actual_date) // 10\n",
    "    dados.append((id_usuario, nome, faixa_etaria))\n",
    "\n",
    "cursor_dimensional.executemany(\n",
    "    \"INSERT INTO d_usuario (idUsuario, nome, faixa_etaria) VALUES (%s, %s, %s)\",\n",
    "    dados,\n",
    ")"
   ]
  },
  {
   "cell_type": "markdown",
   "metadata": {},
   "source": [
    "## Pagamento"
   ]
  },
  {
   "cell_type": "code",
   "execution_count": 29,
   "metadata": {},
   "outputs": [],
   "source": [
    "# campos: idPagamento, vlrRecebido\n",
    "cursor_relacional.execute(\n",
    "    \"SELECT idPagamento, vlrRecebido FROM pagamento\",\n",
    ")\n",
    "pagamentos = cursor_relacional.fetchall()\n",
    "\n",
    "cursor_dimensional.executemany(\n",
    "    \"INSERT INTO d_Pagamento (idPagamento, vlrRecebido) VALUES (%s,%s)\",\n",
    "    pagamentos,\n",
    ")"
   ]
  },
  {
   "cell_type": "markdown",
   "metadata": {},
   "source": [
    "## Plano"
   ]
  },
  {
   "cell_type": "code",
   "execution_count": null,
   "metadata": {},
   "outputs": [
    {
     "name": "stdout",
     "output_type": "stream",
     "text": [
      "[(1, 'Normal'), (2, 'Normal+'), (3, 'Premium'), (4, 'Premium+'), (5, 'PremiumPlus+')]\n"
     ]
    }
   ],
   "source": [
    "cursor_relacional.execute(\n",
    "    \"SELECT idPlano, nmPlano FROM plano\",\n",
    ")\n",
    "planos = cursor_relacional.fetchall()\n",
    "\n",
    "cursor_dimensional.executemany(\n",
    "    \"INSERT INTO d_plano (idPlano, nmPlano) VALUES (%s, %s)\",\n",
    "    planos\n",
    ")"
   ]
  },
  {
   "cell_type": "markdown",
   "metadata": {},
   "source": [
    "## Assinatura"
   ]
  },
  {
   "cell_type": "code",
   "execution_count": null,
   "metadata": {},
   "outputs": [
    {
     "name": "stdout",
     "output_type": "stream",
     "text": [
      "pais: Brasil, estado: Roraima, cidade: Gonçalves\n",
      "3 2013 31\n",
      "pais: Brasil, estado: Maranhão, cidade: Carvalho de Cavalcante\n",
      "2 2015 28\n",
      "pais: Brasil, estado: Rio Grande do Norte, cidade: Pereira\n",
      "8 2014 31\n",
      "pais: Brasil, estado: Tocantins, cidade: Almeida do Oeste\n",
      "1 2013 31\n",
      "pais: Brasil, estado: Mato Grosso do Sul, cidade: da Paz Paulista\n",
      "4 2015 30\n"
     ]
    }
   ],
   "source": [
    "cursor_relacional.execute(\n",
    "    \"SELECT idAssinatura, Usuario_idUsuario, dtInicio FROM assinatura\"\n",
    ")\n",
    "assinaturas = cursor_relacional.fetchall()\n",
    "\n",
    "for id_assinatura, id_usuario, dt_inicio in assinaturas:\n",
    "    # TODO: Tentar refazer usando dados já inseridos no banco dimensional\n",
    "    cursor_relacional.execute(\n",
    "        \"SELECT pais_idPais, cidade_idCidade, estado_idEstado FROM usuario WHERE idUsuario=%s\",\n",
    "        (id_usuario,)\n",
    "    )\n",
    "    usuario = cursor_relacional.fetchone()\n",
    "    pais_id, cidade_id, estado_id = usuario\n",
    "\n",
    "    cursor_relacional.execute(\n",
    "        \"SELECT nmPais FROM pais WHERE idPais=%s\",\n",
    "        (pais_id,)\n",
    "    )\n",
    "    pais = cursor_relacional.fetchone()[0]\n",
    "\n",
    "    cursor_relacional.execute(\n",
    "        \"SELECT nmEstado FROM estado WHERE idEstado=%s\",\n",
    "        (estado_id,)\n",
    "    )\n",
    "    estado = cursor_relacional.fetchone()[0]\n",
    "\n",
    "    cursor_relacional.execute(\n",
    "        \"SELECT nmCidade FROM cidade WHERE idCidade=%s\",\n",
    "        (cidade_id,)\n",
    "    )\n",
    "    cidade = cursor_relacional.fetchone()[0]\n",
    "\n",
    "    cursor_dimensional.execute(\n",
    "        \"\"\"\n",
    "        SELECT idLocalidade FROM d_localidade\n",
    "        WHERE pais=%s AND estado=%s AND cidade=%s\n",
    "        \"\"\",\n",
    "        (pais, estado, cidade)\n",
    "    )\n",
    "    localidade = cursor_dimensional.fetchone()[0]\n",
    "\n",
    "    cursor_dimensional.execute(\n",
    "        \"\"\"\n",
    "        SELECT idData FROM d_data\n",
    "        WHERE mes=%s AND ano=%s\n",
    "        \"\"\",\n",
    "        (dt_inicio.month, dt_inicio.year)\n",
    "    )\n",
    "    data = cursor_dimensional.fetchall()\n",
    "    print(dt_inicio.month, dt_inicio.year, len(data))"
   ]
  },
  {
   "cell_type": "code",
   "execution_count": null,
   "metadata": {},
   "outputs": [],
   "source": [
    "# conn_dimensional.commit()\n"
   ]
  }
 ],
 "metadata": {
  "kernelspec": {
   "display_name": ".venv",
   "language": "python",
   "name": "python3"
  },
  "language_info": {
   "codemirror_mode": {
    "name": "ipython",
    "version": 3
   },
   "file_extension": ".py",
   "mimetype": "text/x-python",
   "name": "python",
   "nbconvert_exporter": "python",
   "pygments_lexer": "ipython3",
   "version": "3.10.11"
  }
 },
 "nbformat": 4,
 "nbformat_minor": 2
}
