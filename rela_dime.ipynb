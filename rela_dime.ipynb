{
 "cells": [
  {
   "cell_type": "code",
   "execution_count": null,
   "metadata": {},
   "outputs": [],
   "source": [
    "import mysql.connector\n",
    "import requests"
   ]
  },
  {
   "cell_type": "code",
   "execution_count": null,
   "metadata": {},
   "outputs": [],
   "source": [
    "conn_relacional = mysql.connector.connect(\n",
    "    host=\"127.0.0.1\",\n",
    "    port=3306,\n",
    "    user=\"root\",\n",
    "    password=\"0101\",\n",
    "    database=\"relacional\",\n",
    ")\n",
    "\n",
    "conn_dimensional = mysql.connector.connect(\n",
    "    host=\"127.0.0.1\",\n",
    "    port=3306,\n",
    "    user=\"root\",\n",
    "    password=\"0101\",\n",
    "    database=\"dimensional\",\n",
    ")\n",
    "\n",
    "cursor_relacional = conn_relacional.cursor()\n",
    "cursor_dimensional = conn_dimensional.cursor()"
   ]
  },
  {
   "cell_type": "code",
   "execution_count": null,
   "metadata": {},
   "outputs": [],
   "source": [
    "def pais_para_continente(pais):\n",
    "    url = f\"https://restcountries.com/v3.1/translation/{pais.lower()}\"\n",
    "    response = requests.get(url)\n",
    "\n",
    "    if response.status_code != 200:\n",
    "        return None\n",
    "    \n",
    "    data = response.json()[0]\n",
    "    continente = data['region']\n",
    "\n",
    "    traducao = {\n",
    "        'Africa': 'África',\n",
    "        'Americas': 'América',\n",
    "        'Europe': 'Europa',\n",
    "        'Asia': 'Ásia',\n",
    "        'Oceania': 'Oceania',\n",
    "        'Antarctic': 'Antártida'\n",
    "    }\n",
    "    return traducao.get(continente, continente)"
   ]
  },
  {
   "cell_type": "markdown",
   "metadata": {},
   "source": [
    "## Localidade"
   ]
  },
  {
   "cell_type": "code",
   "execution_count": null,
   "metadata": {},
   "outputs": [],
   "source": [
    "cursor_relacional.execute(\n",
    "    \"SELECT idPais, nmPais FROM pais\"\n",
    ")\n",
    "paises = cursor_relacional.fetchall()\n",
    "\n",
    "continentes = []\n",
    "for id_pais, nome_pais in paises:\n",
    "    continentes.append(pais_para_continente(nome_pais))\n",
    "\n",
    "cursor_dimensional.executemany(\n",
    "    \"INSERT INTO d_localidade (idLocalidade, pais, continente) VALUES (%s, %s, %s)\",\n",
    "    [(pais[0], pais[1], continentes[0]) for pais in paises],\n",
    ")"
   ]
  },
  {
   "cell_type": "markdown",
   "metadata": {},
   "source": [
    "## Pagamento"
   ]
  },
  {
   "cell_type": "code",
   "execution_count": null,
   "metadata": {},
   "outputs": [],
   "source": [
    "# campos: idPagamento, vlrRecebido\n",
    "cursor_relacional.execute(\n",
    "    \"SELECT idPagamento, vlrRecebido FROM pagamento\",\n",
    ")\n",
    "pagamentos = cursor_relacional.fetchall()\n",
    "\n",
    "cursor_dimensional.executemany(\n",
    "    \"INSERT INTO d_Pagamento (idPagamento, vlrRecebido) VALUES (%s,%s)\",\n",
    "    pagamentos,\n",
    ")"
   ]
  },
  {
   "cell_type": "markdown",
   "metadata": {},
   "source": [
    "## Plano"
   ]
  },
  {
   "cell_type": "code",
   "execution_count": null,
   "metadata": {},
   "outputs": [],
   "source": [
    "cursor_relacional.execute(\n",
    "    \"SELECT idPlano, nmPlano FROM plano\",\n",
    ")\n",
    "planos = cursor_relacional.fetchall()\n",
    "\n",
    "cursor_dimensional.executemany(\n",
    "    \"INSERT INTO d_plano (idPlano, nmPlano) VALUES (%s, %s)\",\n",
    "    planos\n",
    ")"
   ]
  },
  {
   "cell_type": "markdown",
   "metadata": {},
   "source": [
    "## Assinatura"
   ]
  },
  {
   "cell_type": "code",
   "execution_count": null,
   "metadata": {},
   "outputs": [],
   "source": [
    "import collections\n",
    "import datetime\n",
    "\n",
    "data_lookup = {}\n",
    "cursor_dimensional.execute(\"SELECT idData, ano, mes FROM d_data WHERE dia = 1\")\n",
    "for id_data, ano, mes in cursor_dimensional.fetchall():\n",
    "    data_lookup[(ano, mes)] = id_data\n",
    "\n",
    "localidade_lookup = {}\n",
    "cursor_dimensional.execute(\"SELECT idLocalidade, pais, continente FROM d_localidade\")\n",
    "for id_localidade, pais, continente in cursor_dimensional.fetchall():\n",
    "    localidade_lookup[(pais, continente)] = id_localidade\n",
    "\n",
    "cursor_relacional.execute(\n",
    "    \"\"\"\n",
    "    SELECT\n",
    "        u.dtNascimento,\n",
    "        p.nmPais,\n",
    "        a.dtInicio\n",
    "    FROM assinatura a\n",
    "    JOIN usuario u ON u.idUsuario = a.Usuario_idUsuario\n",
    "    JOIN pais p ON p.idPais = u.pais_idPais\n",
    "    \"\"\"\n",
    ")\n",
    "assinaturas = cursor_relacional.fetchall()\n",
    "\n",
    "assinaturas_agregadas = collections.defaultdict(int)\n",
    "data_atual = datetime.datetime.now()\n",
    "\n",
    "for dt_nascimento, pais, dt_inicio in assinaturas:\n",
    "    idade_usuario = data_atual.year - dt_nascimento.year - \\\n",
    "        ((data_atual.month, data_atual.day) < (dt_nascimento.month, dt_nascimento.day))\n",
    "    faixa_etaria_usuario = idade_usuario // 10\n",
    "\n",
    "    continente = pais_para_continente(pais)\n",
    "    id_localidade = localidade_lookup.get((pais, continente))\n",
    "\n",
    "    id_data = data_lookup.get((dt_inicio.year, dt_inicio.month))\n",
    "\n",
    "    assinaturas_agregadas[(id_data, id_localidade, faixa_etaria_usuario)] += 1\n",
    "\n",
    "cursor_dimensional.executemany(\n",
    "    'INSERT INTO f_assinatura (idAssinatura, numAssinantes, faixa_etaria, d_Localidade_idLocalidade, d_Data_idData) VALUES (%s, %s, %s, %s, %s)',\n",
    "    [\n",
    "        (i, num_assinaturas, faixa_etaria, id_localidade, id_data)\n",
    "        for i, ((id_data, id_localidade, faixa_etaria), num_assinaturas) in enumerate(assinaturas_agregadas.items(), start=1)\n",
    "    ]\n",
    ")"
   ]
  },
  {
   "cell_type": "markdown",
   "metadata": {},
   "source": [
    "## Receita"
   ]
  },
  {
   "cell_type": "code",
   "execution_count": null,
   "metadata": {},
   "outputs": [],
   "source": [
    "cursor_relacional.execute(\n",
    "    \"\"\"SELECT idPagamento, vlrRecebido, Assinatura_idAssinatura, dtPagamento FROM pagamento\"\"\",\n",
    ")\n",
    "pagamentos = cursor_relacional.fetchall()\n",
    "\n",
    "dados_receita = []\n",
    "for id_pagamento, valor_recebido, id_assinatura, dt_pagamento in pagamentos:\n",
    "    # Assinatura\n",
    "    cursor_relacional.execute(\n",
    "        \"\"\"SELECT Plano_idPlano FROM assinatura WHERE idAssinatura=%s\"\"\",\n",
    "        (id_assinatura,)\n",
    "    )\n",
    "    plano_id = cursor_relacional.fetchone()[0]\n",
    "    \n",
    "    # idPlano\n",
    "    cursor_dimensional.execute(\n",
    "        \"\"\"SELECT idPlano FROM d_plano WHERE idPlano=%s\"\"\",\n",
    "        (plano_id,)\n",
    "    )\n",
    "    d_plano_id = cursor_dimensional.fetchone()[0]\n",
    "    \n",
    "    # idPagamento\n",
    "    cursor_dimensional.execute(\n",
    "        \"\"\"SELECT idPagamento FROM d_pagamento WHERE idPagamento=%s\"\"\",\n",
    "        (id_pagamento,)\n",
    "    )\n",
    "    d_pagamento_id = cursor_dimensional.fetchone()[0]\n",
    "    \n",
    "    # idData\n",
    "    cursor_dimensional.execute(\n",
    "        \"\"\"\n",
    "        SELECT idData FROM d_data\n",
    "        WHERE mes=%s AND ano=%s\n",
    "        \"\"\",\n",
    "        (dt_pagamento.month, dt_pagamento.year)\n",
    "    )\n",
    "    d_data_id = cursor_dimensional.fetchall()\n",
    "    print(dt_pagamento.month, dt_pagamento.year, len(d_data_id))\n",
    "    \n",
    "    dados_receita.append(\n",
    "        (id_pagamento, valor_recebido, d_plano_id, d_pagamento_id, d_data_id)\n",
    "    )"
   ]
  },
  {
   "cell_type": "code",
   "execution_count": null,
   "metadata": {},
   "outputs": [],
   "source": [
    "conn_dimensional.commit()\n"
   ]
  }
 ],
 "metadata": {
  "kernelspec": {
   "display_name": ".venv",
   "language": "python",
   "name": "python3"
  },
  "language_info": {
   "codemirror_mode": {
    "name": "ipython",
    "version": 3
   },
   "file_extension": ".py",
   "mimetype": "text/x-python",
   "name": "python",
   "nbconvert_exporter": "python",
   "pygments_lexer": "ipython3",
   "version": "3.10.11"
  }
 },
 "nbformat": 4,
 "nbformat_minor": 2
}
