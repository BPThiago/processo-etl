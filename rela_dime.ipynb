{
 "cells": [
  {
   "cell_type": "code",
   "execution_count": 1,
   "metadata": {},
   "outputs": [],
   "source": [
    "import mysql.connector\n",
    "import requests\n",
    "\n"
   ]
  },
  {
   "cell_type": "code",
   "execution_count": 2,
   "metadata": {},
   "outputs": [],
   "source": [
    "conn_relacional = mysql.connector.connect(\n",
    "    host=\"127.0.0.1\",\n",
    "    port=3306,\n",
    "    user=\"root\",\n",
    "    password=\"0101\",\n",
    "    database=\"relacional\",\n",
    ")\n",
    "\n",
    "conn_dimensional = mysql.connector.connect(\n",
    "    host=\"127.0.0.1\",\n",
    "    port=3306,\n",
    "    user=\"root\",\n",
    "    password=\"0101\",\n",
    "    database=\"dimensional\",\n",
    ")\n",
    "\n",
    "cursor_relacional = conn_relacional.cursor()\n",
    "cursor_dimensional = conn_dimensional.cursor()"
   ]
  },
  {
   "cell_type": "code",
   "execution_count": 3,
   "metadata": {},
   "outputs": [],
   "source": [
    "def pais_para_continente(pais):\n",
    "    url = f\"https://restcountries.com/v3.1/translation/{pais.lower()}\"\n",
    "    response = requests.get(url)\n",
    "\n",
    "    if response.status_code != 200:\n",
    "        return None\n",
    "    \n",
    "    data = response.json()[0]\n",
    "    continente = data['region']\n",
    "\n",
    "    traducao = {\n",
    "        'Africa': 'África',\n",
    "        'Americas': 'América',\n",
    "        'Europe': 'Europa',\n",
    "        'Asia': 'Ásia',\n",
    "        'Oceania': 'Oceania',\n",
    "        'Antarctic': 'Antártida'\n",
    "    }\n",
    "    return traducao.get(continente, continente)"
   ]
  },
  {
   "cell_type": "markdown",
   "metadata": {},
   "source": [
    "## Localidade"
   ]
  },
  {
   "cell_type": "code",
   "execution_count": 4,
   "metadata": {},
   "outputs": [],
   "source": [
    "cursor_relacional.execute(\n",
    "    \"SELECT idPais, nmPais FROM pais\"\n",
    ")\n",
    "paises = cursor_relacional.fetchall()\n",
    "\n",
    "cursor_relacional.execute(\n",
    "    \"SELECT idEstado, nmEstado FROM estado\"\n",
    ")\n",
    "estados = cursor_relacional.fetchall()\n",
    "\n",
    "cursor_relacional.execute(\n",
    "    \"SELECT idCidade, nmCidade FROM cidade\"\n",
    ")\n",
    "cidades = cursor_relacional.fetchall()\n",
    "\n",
    "continentes = []\n",
    "for id_pais, nome_pais in paises:\n",
    "    continentes.append(pais_para_continente(nome_pais))\n",
    "    \n",
    "# Inserts\n",
    "cursor_dimensional.executemany(\n",
    "    \"INSERT INTO d_localidade (idLocalidade, pais, continente) VALUES (%s, %s, %s)\",\n",
    "    [(i+1, paises[0][1], continentes[0]) for i in range(len(estados))],\n",
    ")"
   ]
  },
  {
   "cell_type": "markdown",
   "metadata": {},
   "source": [
    "## Usuário"
   ]
  },
  {
   "cell_type": "code",
   "execution_count": 5,
   "metadata": {},
   "outputs": [],
   "source": [
    "from datetime import datetime\n",
    "\n",
    "def get_years(date, actual_date):\n",
    "    return actual_date.year - date.year + 1"
   ]
  },
  {
   "cell_type": "code",
   "execution_count": 6,
   "metadata": {},
   "outputs": [],
   "source": [
    "from datetime import datetime\n",
    "\n",
    "cursor_relacional.execute(\n",
    "    \"SELECT idUsuario, nome, dtNascimento FROM usuario\",\n",
    ")\n",
    "usuarios = cursor_relacional.fetchall()\n",
    "\n",
    "actual_date = datetime.now().date()\n",
    "dados = []\n",
    "for id_usuario, nome, dt_nascimento in usuarios:\n",
    "    faixa_etaria = get_years(dt_nascimento, actual_date) // 10\n",
    "    dados.append((id_usuario, nome, faixa_etaria))\n",
    "\n",
    "cursor_dimensional.executemany(\n",
    "    \"INSERT INTO d_usuario (idUsuario, nome, faixa_etaria) VALUES (%s, %s, %s)\",\n",
    "    dados,\n",
    ")"
   ]
  },
  {
   "cell_type": "markdown",
   "metadata": {},
   "source": [
    "## Pagamento"
   ]
  },
  {
   "cell_type": "code",
   "execution_count": 7,
   "metadata": {},
   "outputs": [],
   "source": [
    "# campos: idPagamento, vlrRecebido\n",
    "cursor_relacional.execute(\n",
    "    \"SELECT idPagamento, vlrRecebido FROM pagamento\",\n",
    ")\n",
    "pagamentos = cursor_relacional.fetchall()\n",
    "\n",
    "cursor_dimensional.executemany(\n",
    "    \"INSERT INTO d_Pagamento (idPagamento, vlrRecebido) VALUES (%s,%s)\",\n",
    "    pagamentos,\n",
    ")"
   ]
  },
  {
   "cell_type": "markdown",
   "metadata": {},
   "source": [
    "## Plano"
   ]
  },
  {
   "cell_type": "code",
   "execution_count": 8,
   "metadata": {},
   "outputs": [],
   "source": [
    "cursor_relacional.execute(\n",
    "    \"SELECT idPlano, nmPlano FROM plano\",\n",
    ")\n",
    "planos = cursor_relacional.fetchall()\n",
    "\n",
    "cursor_dimensional.executemany(\n",
    "    \"INSERT INTO d_plano (idPlano, nmPlano) VALUES (%s, %s)\",\n",
    "    planos\n",
    ")"
   ]
  },
  {
   "cell_type": "markdown",
   "metadata": {},
   "source": [
    "## Assinatura"
   ]
  },
  {
   "cell_type": "code",
   "execution_count": 9,
   "metadata": {},
   "outputs": [
    {
     "ename": "ProgrammingError",
     "evalue": "1054 (42S22): Unknown column 'estado' in 'where clause'",
     "output_type": "error",
     "traceback": [
      "\u001b[31m---------------------------------------------------------------------------\u001b[39m",
      "\u001b[31mMySQLInterfaceError\u001b[39m                       Traceback (most recent call last)",
      "\u001b[36mFile \u001b[39m\u001b[32mc:\\Users\\ifesm\\Documents\\processo-etl\\.venv\\Lib\\site-packages\\mysql\\connector\\connection_cext.py:772\u001b[39m, in \u001b[36mCMySQLConnection.cmd_query\u001b[39m\u001b[34m(self, query, raw, buffered, raw_as_string, **kwargs)\u001b[39m\n\u001b[32m    770\u001b[39m     \u001b[38;5;28mself\u001b[39m._local_infile_filenames = \u001b[38;5;28;01mNone\u001b[39;00m\n\u001b[32m--> \u001b[39m\u001b[32m772\u001b[39m     \u001b[38;5;28;43mself\u001b[39;49m\u001b[43m.\u001b[49m\u001b[43m_cmysql\u001b[49m\u001b[43m.\u001b[49m\u001b[43mquery\u001b[49m\u001b[43m(\u001b[49m\n\u001b[32m    773\u001b[39m \u001b[43m        \u001b[49m\u001b[43mquery\u001b[49m\u001b[43m,\u001b[49m\n\u001b[32m    774\u001b[39m \u001b[43m        \u001b[49m\u001b[43mraw\u001b[49m\u001b[43m=\u001b[49m\u001b[43mraw\u001b[49m\u001b[43m,\u001b[49m\n\u001b[32m    775\u001b[39m \u001b[43m        \u001b[49m\u001b[43mbuffered\u001b[49m\u001b[43m=\u001b[49m\u001b[43mbuffered\u001b[49m\u001b[43m,\u001b[49m\n\u001b[32m    776\u001b[39m \u001b[43m        \u001b[49m\u001b[43mraw_as_string\u001b[49m\u001b[43m=\u001b[49m\u001b[43mraw_as_string\u001b[49m\u001b[43m,\u001b[49m\n\u001b[32m    777\u001b[39m \u001b[43m        \u001b[49m\u001b[43mquery_attrs\u001b[49m\u001b[43m=\u001b[49m\u001b[38;5;28;43mself\u001b[39;49m\u001b[43m.\u001b[49m\u001b[43mquery_attrs\u001b[49m\u001b[43m,\u001b[49m\n\u001b[32m    778\u001b[39m \u001b[43m    \u001b[49m\u001b[43m)\u001b[49m\n\u001b[32m    779\u001b[39m \u001b[38;5;28;01mexcept\u001b[39;00m MySQLInterfaceError \u001b[38;5;28;01mas\u001b[39;00m err:\n",
      "\u001b[31mMySQLInterfaceError\u001b[39m: Unknown column 'estado' in 'where clause'",
      "\nThe above exception was the direct cause of the following exception:\n",
      "\u001b[31mProgrammingError\u001b[39m                          Traceback (most recent call last)",
      "\u001b[36mCell\u001b[39m\u001b[36m \u001b[39m\u001b[32mIn[9]\u001b[39m\u001b[32m, line 33\u001b[39m\n\u001b[32m     27\u001b[39m cursor_relacional.execute(\n\u001b[32m     28\u001b[39m     \u001b[33m\"\u001b[39m\u001b[33mSELECT nmCidade FROM cidade WHERE idCidade=\u001b[39m\u001b[38;5;132;01m%s\u001b[39;00m\u001b[33m\"\u001b[39m,\n\u001b[32m     29\u001b[39m     (cidade_id,)\n\u001b[32m     30\u001b[39m )\n\u001b[32m     31\u001b[39m cidade = cursor_relacional.fetchone()[\u001b[32m0\u001b[39m]\n\u001b[32m---> \u001b[39m\u001b[32m33\u001b[39m \u001b[43mcursor_dimensional\u001b[49m\u001b[43m.\u001b[49m\u001b[43mexecute\u001b[49m\u001b[43m(\u001b[49m\n\u001b[32m     34\u001b[39m \u001b[38;5;250;43m    \u001b[39;49m\u001b[33;43;03m\"\"\"\u001b[39;49;00m\n\u001b[32m     35\u001b[39m \u001b[33;43;03m    SELECT idLocalidade FROM d_localidade\u001b[39;49;00m\n\u001b[32m     36\u001b[39m \u001b[33;43;03m    WHERE pais=%s AND estado=%s AND cidade=%s\u001b[39;49;00m\n\u001b[32m     37\u001b[39m \u001b[33;43;03m    \"\"\"\u001b[39;49;00m\u001b[43m,\u001b[49m\n\u001b[32m     38\u001b[39m \u001b[43m    \u001b[49m\u001b[43m(\u001b[49m\u001b[43mpais\u001b[49m\u001b[43m,\u001b[49m\u001b[43m \u001b[49m\u001b[43mestado\u001b[49m\u001b[43m,\u001b[49m\u001b[43m \u001b[49m\u001b[43mcidade\u001b[49m\u001b[43m)\u001b[49m\n\u001b[32m     39\u001b[39m \u001b[43m\u001b[49m\u001b[43m)\u001b[49m\n\u001b[32m     40\u001b[39m localidade = cursor_dimensional.fetchone()[\u001b[32m0\u001b[39m]\n\u001b[32m     42\u001b[39m cursor_dimensional.execute(\n\u001b[32m     43\u001b[39m \u001b[38;5;250m    \u001b[39m\u001b[33;03m\"\"\"\u001b[39;00m\n\u001b[32m     44\u001b[39m \u001b[33;03m    SELECT idData FROM d_data\u001b[39;00m\n\u001b[32m   (...)\u001b[39m\u001b[32m     47\u001b[39m     (dt_inicio.month, dt_inicio.year)\n\u001b[32m     48\u001b[39m )\n",
      "\u001b[36mFile \u001b[39m\u001b[32mc:\\Users\\ifesm\\Documents\\processo-etl\\.venv\\Lib\\site-packages\\mysql\\connector\\cursor_cext.py:356\u001b[39m, in \u001b[36mCMySQLCursor.execute\u001b[39m\u001b[34m(self, operation, params, map_results)\u001b[39m\n\u001b[32m    348\u001b[39m \u001b[38;5;28mself\u001b[39m._executed = (\n\u001b[32m    349\u001b[39m     \u001b[38;5;28mself\u001b[39m._stmt_partition[\u001b[33m\"\u001b[39m\u001b[33msingle_stmts\u001b[39m\u001b[33m\"\u001b[39m].popleft()\n\u001b[32m    350\u001b[39m     \u001b[38;5;28;01mif\u001b[39;00m map_results\n\u001b[32m    351\u001b[39m     \u001b[38;5;28;01melse\u001b[39;00m \u001b[38;5;28mself\u001b[39m._stmt_partition[\u001b[33m\"\u001b[39m\u001b[33mmappable_stmt\u001b[39m\u001b[33m\"\u001b[39m]\n\u001b[32m    352\u001b[39m )\n\u001b[32m    354\u001b[39m \u001b[38;5;28;01mtry\u001b[39;00m:\n\u001b[32m    355\u001b[39m     \u001b[38;5;28mself\u001b[39m._handle_result(\n\u001b[32m--> \u001b[39m\u001b[32m356\u001b[39m         \u001b[38;5;28;43mself\u001b[39;49m\u001b[43m.\u001b[49m\u001b[43m_connection\u001b[49m\u001b[43m.\u001b[49m\u001b[43mcmd_query\u001b[49m\u001b[43m(\u001b[49m\n\u001b[32m    357\u001b[39m \u001b[43m            \u001b[49m\u001b[38;5;28;43mself\u001b[39;49m\u001b[43m.\u001b[49m\u001b[43m_stmt_partition\u001b[49m\u001b[43m[\u001b[49m\u001b[33;43m\"\u001b[39;49m\u001b[33;43mmappable_stmt\u001b[39;49m\u001b[33;43m\"\u001b[39;49m\u001b[43m]\u001b[49m\u001b[43m,\u001b[49m\n\u001b[32m    358\u001b[39m \u001b[43m            \u001b[49m\u001b[43mraw\u001b[49m\u001b[43m=\u001b[49m\u001b[38;5;28;43mself\u001b[39;49m\u001b[43m.\u001b[49m\u001b[43m_raw\u001b[49m\u001b[43m,\u001b[49m\n\u001b[32m    359\u001b[39m \u001b[43m            \u001b[49m\u001b[43mbuffered\u001b[49m\u001b[43m=\u001b[49m\u001b[38;5;28;43mself\u001b[39;49m\u001b[43m.\u001b[49m\u001b[43m_buffered\u001b[49m\u001b[43m,\u001b[49m\n\u001b[32m    360\u001b[39m \u001b[43m            \u001b[49m\u001b[43mraw_as_string\u001b[49m\u001b[43m=\u001b[49m\u001b[38;5;28;43mself\u001b[39;49m\u001b[43m.\u001b[49m\u001b[43m_raw_as_string\u001b[49m\u001b[43m,\u001b[49m\n\u001b[32m    361\u001b[39m \u001b[43m        \u001b[49m\u001b[43m)\u001b[49m\n\u001b[32m    362\u001b[39m     )\n\u001b[32m    363\u001b[39m \u001b[38;5;28;01mexcept\u001b[39;00m MySQLInterfaceError \u001b[38;5;28;01mas\u001b[39;00m err:\n\u001b[32m    364\u001b[39m     \u001b[38;5;28;01mif\u001b[39;00m \u001b[38;5;28mhasattr\u001b[39m(err, \u001b[33m\"\u001b[39m\u001b[33merrno\u001b[39m\u001b[33m\"\u001b[39m):\n",
      "\u001b[36mFile \u001b[39m\u001b[32mc:\\Users\\ifesm\\Documents\\processo-etl\\.venv\\Lib\\site-packages\\mysql\\connector\\opentelemetry\\context_propagation.py:97\u001b[39m, in \u001b[36mwith_context_propagation.<locals>.wrapper\u001b[39m\u001b[34m(cnx, *args, **kwargs)\u001b[39m\n\u001b[32m     95\u001b[39m \u001b[38;5;66;03m# pylint: disable=possibly-used-before-assignment\u001b[39;00m\n\u001b[32m     96\u001b[39m \u001b[38;5;28;01mif\u001b[39;00m \u001b[38;5;129;01mnot\u001b[39;00m OTEL_ENABLED \u001b[38;5;129;01mor\u001b[39;00m \u001b[38;5;129;01mnot\u001b[39;00m cnx.otel_context_propagation:\n\u001b[32m---> \u001b[39m\u001b[32m97\u001b[39m     \u001b[38;5;28;01mreturn\u001b[39;00m \u001b[43mmethod\u001b[49m\u001b[43m(\u001b[49m\u001b[43mcnx\u001b[49m\u001b[43m,\u001b[49m\u001b[43m \u001b[49m\u001b[43m*\u001b[49m\u001b[43margs\u001b[49m\u001b[43m,\u001b[49m\u001b[43m \u001b[49m\u001b[43m*\u001b[49m\u001b[43m*\u001b[49m\u001b[43mkwargs\u001b[49m\u001b[43m)\u001b[49m\n\u001b[32m     99\u001b[39m current_span = trace.get_current_span()\n\u001b[32m    100\u001b[39m tp_header = \u001b[38;5;28;01mNone\u001b[39;00m\n",
      "\u001b[36mFile \u001b[39m\u001b[32mc:\\Users\\ifesm\\Documents\\processo-etl\\.venv\\Lib\\site-packages\\mysql\\connector\\connection_cext.py:781\u001b[39m, in \u001b[36mCMySQLConnection.cmd_query\u001b[39m\u001b[34m(self, query, raw, buffered, raw_as_string, **kwargs)\u001b[39m\n\u001b[32m    779\u001b[39m \u001b[38;5;28;01mexcept\u001b[39;00m MySQLInterfaceError \u001b[38;5;28;01mas\u001b[39;00m err:\n\u001b[32m    780\u001b[39m     \u001b[38;5;28;01mif\u001b[39;00m \u001b[38;5;28mhasattr\u001b[39m(err, \u001b[33m\"\u001b[39m\u001b[33merrno\u001b[39m\u001b[33m\"\u001b[39m):\n\u001b[32m--> \u001b[39m\u001b[32m781\u001b[39m         \u001b[38;5;28;01mraise\u001b[39;00m get_mysql_exception(\n\u001b[32m    782\u001b[39m             err.errno, msg=err.msg, sqlstate=err.sqlstate\n\u001b[32m    783\u001b[39m         ) \u001b[38;5;28;01mfrom\u001b[39;00m\u001b[38;5;250m \u001b[39m\u001b[34;01merr\u001b[39;00m\n\u001b[32m    784\u001b[39m     \u001b[38;5;28;01mraise\u001b[39;00m InterfaceError(\u001b[38;5;28mstr\u001b[39m(err)) \u001b[38;5;28;01mfrom\u001b[39;00m\u001b[38;5;250m \u001b[39m\u001b[34;01merr\u001b[39;00m\n\u001b[32m    785\u001b[39m \u001b[38;5;28;01mexcept\u001b[39;00m \u001b[38;5;167;01mAttributeError\u001b[39;00m \u001b[38;5;28;01mas\u001b[39;00m err:\n",
      "\u001b[31mProgrammingError\u001b[39m: 1054 (42S22): Unknown column 'estado' in 'where clause'"
     ]
    }
   ],
   "source": [
    "cursor_relacional.execute(\n",
    "    \"SELECT idAssinatura, Usuario_idUsuario, dtInicio FROM assinatura\"\n",
    ")\n",
    "assinaturas = cursor_relacional.fetchall()\n",
    "\n",
    "for id_assinatura, id_usuario, dt_inicio in assinaturas:\n",
    "    # TODO: Tentar refazer usando dados já inseridos no banco dimensional\n",
    "    cursor_relacional.execute(\n",
    "        \"SELECT pais_idPais, cidade_idCidade, estado_idEstado FROM usuario WHERE idUsuario=%s\",\n",
    "        (id_usuario,)\n",
    "    )\n",
    "    usuario = cursor_relacional.fetchone()\n",
    "    pais_id, cidade_id, estado_id = usuario\n",
    "\n",
    "    cursor_relacional.execute(\n",
    "        \"SELECT nmPais FROM pais WHERE idPais=%s\",\n",
    "        (pais_id,)\n",
    "    )\n",
    "    pais = cursor_relacional.fetchone()[0]\n",
    "\n",
    "    cursor_relacional.execute(\n",
    "        \"SELECT nmEstado FROM estado WHERE idEstado=%s\",\n",
    "        (estado_id,)\n",
    "    )\n",
    "    estado = cursor_relacional.fetchone()[0]\n",
    "\n",
    "    cursor_relacional.execute(\n",
    "        \"SELECT nmCidade FROM cidade WHERE idCidade=%s\",\n",
    "        (cidade_id,)\n",
    "    )\n",
    "    cidade = cursor_relacional.fetchone()[0]\n",
    "\n",
    "    cursor_dimensional.execute(\n",
    "        \"\"\"\n",
    "        SELECT idLocalidade FROM d_localidade\n",
    "        WHERE pais=%s AND estado=%s AND cidade=%s\n",
    "        \"\"\",\n",
    "        (pais, estado, cidade)\n",
    "    )\n",
    "    localidade = cursor_dimensional.fetchone()[0]\n",
    "\n",
    "    cursor_dimensional.execute(\n",
    "        \"\"\"\n",
    "        SELECT idData FROM d_data\n",
    "        WHERE mes=%s AND ano=%s\n",
    "        \"\"\",\n",
    "        (dt_inicio.month, dt_inicio.year)\n",
    "    )\n",
    "    data = cursor_dimensional.fetchall()\n",
    "    print(dt_inicio.month, dt_inicio.year, len(data))"
   ]
  },
  {
   "cell_type": "markdown",
   "metadata": {},
   "source": [
    "## Receita"
   ]
  },
  {
   "cell_type": "code",
   "execution_count": null,
   "metadata": {},
   "outputs": [
    {
     "name": "stdout",
     "output_type": "stream",
     "text": [
      "1 15.9 1 2019-8-7\n"
     ]
    },
    {
     "ename": "AttributeError",
     "evalue": "'str' object has no attribute 'month'",
     "output_type": "error",
     "traceback": [
      "\u001b[31m---------------------------------------------------------------------------\u001b[39m",
      "\u001b[31mAttributeError\u001b[39m                            Traceback (most recent call last)",
      "\u001b[36mCell\u001b[39m\u001b[36m \u001b[39m\u001b[32mIn[10]\u001b[39m\u001b[32m, line 38\u001b[39m\n\u001b[32m     30\u001b[39m d_pagamento_id = cursor_dimensional.fetchone()[\u001b[32m0\u001b[39m]\n\u001b[32m     32\u001b[39m \u001b[38;5;66;03m# idData\u001b[39;00m\n\u001b[32m     33\u001b[39m cursor_dimensional.execute(\n\u001b[32m     34\u001b[39m \u001b[38;5;250m    \u001b[39m\u001b[33;03m\"\"\"\u001b[39;00m\n\u001b[32m     35\u001b[39m \u001b[33;03m    SELECT idData FROM d_data\u001b[39;00m\n\u001b[32m     36\u001b[39m \u001b[33;03m    WHERE mes=%s AND ano=%s\u001b[39;00m\n\u001b[32m     37\u001b[39m \u001b[33;03m    \"\"\"\u001b[39;00m,\n\u001b[32m---> \u001b[39m\u001b[32m38\u001b[39m     (\u001b[43mdt_pagamento\u001b[49m\u001b[43m.\u001b[49m\u001b[43mmonth\u001b[49m, dt_pagamento.year)\n\u001b[32m     39\u001b[39m )\n\u001b[32m     40\u001b[39m d_data_id = cursor_dimensional.fetchall()\n\u001b[32m     41\u001b[39m \u001b[38;5;28mprint\u001b[39m(dt_pagamento.month, dt_pagamento.year, \u001b[38;5;28mlen\u001b[39m(d_data_id))\n",
      "\u001b[31mAttributeError\u001b[39m: 'str' object has no attribute 'month'"
     ]
    }
   ],
   "source": [
    "cursor_relacional.execute(\n",
    "    \"\"\"SELECT idPagamento, vlrRecebido, Assinatura_idAssinatura, dtPagamento FROM pagamento\"\"\",\n",
    ")\n",
    "pagamentos = cursor_relacional.fetchall()\n",
    "\n",
    "dados_receita = []\n",
    "for id_pagamento, valor_recebido, id_assinatura, dt_pagamento in pagamentos:\n",
    "    \n",
    "    print(id_pagamento, valor_recebido, id_assinatura, dt_pagamento)\n",
    "    \n",
    "    # Assinatura\n",
    "    cursor_relacional.execute(\n",
    "        \"\"\"SELECT Plano_idPlano FROM assinatura WHERE idAssinatura=%s\"\"\",\n",
    "        (id_assinatura,)\n",
    "    )\n",
    "    plano_id = cursor_relacional.fetchone()[0]\n",
    "    \n",
    "    # idPlano\n",
    "    cursor_dimensional.execute(\n",
    "        \"\"\"SELECT idPlano FROM d_plano WHERE idPlano=%s\"\"\",\n",
    "        (plano_id,)\n",
    "    )\n",
    "    d_plano_id = cursor_dimensional.fetchone()[0]\n",
    "    \n",
    "    # idPagamento\n",
    "    cursor_dimensional.execute(\n",
    "        \"\"\"SELECT idPagamento FROM d_pagamento WHERE idPagamento=%s\"\"\",\n",
    "        (id_pagamento,)\n",
    "    )\n",
    "    d_pagamento_id = cursor_dimensional.fetchone()[0]\n",
    "    \n",
    "    # idData\n",
    "    cursor_dimensional.execute(\n",
    "        \"\"\"\n",
    "        SELECT idData FROM d_data\n",
    "        WHERE mes=%s AND ano=%s\n",
    "        \"\"\",\n",
    "        (dt_pagamento.month, dt_pagamento.year)\n",
    "    )\n",
    "    d_data_id = cursor_dimensional.fetchall()\n",
    "    print(dt_pagamento.month, dt_pagamento.year, len(d_data_id))\n",
    "    \n",
    "    dados_receita.append(\n",
    "        (id_pagamento, valor_recebido, d_plano_id, d_pagamento_id, d_data_id)\n",
    "    )\n",
    "\n",
    "    "
   ]
  },
  {
   "cell_type": "code",
   "execution_count": null,
   "metadata": {},
   "outputs": [],
   "source": [
    "# conn_dimensional.commit()\n"
   ]
  }
 ],
 "metadata": {
  "kernelspec": {
   "display_name": ".venv",
   "language": "python",
   "name": "python3"
  },
  "language_info": {
   "codemirror_mode": {
    "name": "ipython",
    "version": 3
   },
   "file_extension": ".py",
   "mimetype": "text/x-python",
   "name": "python",
   "nbconvert_exporter": "python",
   "pygments_lexer": "ipython3",
   "version": "3.12.6"
  }
 },
 "nbformat": 4,
 "nbformat_minor": 2
}
